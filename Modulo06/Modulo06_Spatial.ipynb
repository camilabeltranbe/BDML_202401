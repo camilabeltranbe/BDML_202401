{
 "cells": [
  {
   "cell_type": "markdown",
   "id": "a952ad54-2218-4382-b2eb-d401d349f764",
   "metadata": {},
   "source": [
    "<div >\n",
    "<img src = \"../banner.jpg\" />\n",
    "</div>"
   ]
  },
  {
   "cell_type": "markdown",
   "id": "e475436a",
   "metadata": {},
   "source": [
    "<a target=\"_blank\" href=\"https://colab.research.google.com/github/ignaciomsarmiento/BDML_202401/blob/main/Modulo06/Modulo06_Spatial.ipynb\">\n",
    "  <img src=\"https://colab.research.google.com/assets/colab-badge.svg\" alt=\"Open In Colab\"/>\n",
    "</a>\n"
   ]
  },
  {
   "cell_type": "markdown",
   "id": "f7e57de4",
   "metadata": {},
   "source": [
    "\n",
    "# Spatial Data Cross-validation"
   ]
  },
  {
   "cell_type": "markdown",
   "id": "303a3dcd",
   "metadata": {},
   "source": [
    "## Predicting House Prices\n",
    "\n",
    "\n",
    "$$\n",
    "Precio=f(structural\\,attributes,location,...)\n",
    "$$\n"
   ]
  },
  {
   "cell_type": "markdown",
   "id": "b9183a2e",
   "metadata": {},
   "source": [
    "### The Ames Housing Data"
   ]
  },
  {
   "cell_type": "markdown",
   "id": "312ba2f4",
   "metadata": {},
   "source": [
    "For this exersise we are going to use housing data from Ames, Iowa, available on the `modeldata` package."
   ]
  },
  {
   "cell_type": "markdown",
   "id": "2fdab5a6",
   "metadata": {},
   "source": [
    "Let's load the packages:"
   ]
  },
  {
   "cell_type": "code",
   "execution_count": null,
   "id": "dce4bb18",
   "metadata": {},
   "outputs": [],
   "source": [
    "# install.packages(\"pacman\") #run this line if you use Google Colab"
   ]
  },
  {
   "cell_type": "code",
   "execution_count": null,
   "id": "3e94ec2b-ab94-4ec8-8512-e370d2f22a56",
   "metadata": {
    "tags": [
     "remove_cell"
    ]
   },
   "outputs": [],
   "source": [
    "#packages\n",
    "require(\"pacman\")\n",
    "p_load(\"tidyverse\", #data wrangling\n",
    "       \"modeldata\", # package with the housing data from Ames, Iowa\n",
    "       \"vtable\", #descriptive stats package\n",
    "       \"stargazer\", #tidy regression results,\n",
    "       \"sf\", #handling spatial data\n",
    "       \"spatialsample\") #spatial CV\n",
    "\n"
   ]
  },
  {
   "cell_type": "markdown",
   "id": "5d6b3e2f",
   "metadata": {},
   "source": [
    " And the data set:"
   ]
  },
  {
   "cell_type": "code",
   "execution_count": null,
   "id": "41492fd2",
   "metadata": {},
   "outputs": [],
   "source": [
    "data(\"ames\", package = \"modeldata\")"
   ]
  },
  {
   "cell_type": "markdown",
   "id": "49d73d77",
   "metadata": {},
   "source": [
    "The Ames housing data is a normal [tibble](https://tibble.tidyverse.org/)."
   ]
  },
  {
   "cell_type": "code",
   "execution_count": null,
   "id": "efd33e96",
   "metadata": {},
   "outputs": [],
   "source": [
    "head(ames)"
   ]
  },
  {
   "cell_type": "markdown",
   "id": "36f36e5b",
   "metadata": {},
   "source": [
    "The description of the variables can be viewed here: https://jse.amstat.org/v19n3/decock/DataDocumentation.txt"
   ]
  },
  {
   "cell_type": "markdown",
   "id": "a5e5668c",
   "metadata": {},
   "source": [
    "### Modelling Prices"
   ]
  },
  {
   "cell_type": "markdown",
   "id": "c872b7af",
   "metadata": {},
   "source": [
    "Let's say that the logarithm of sale price of these houses is a linear model on their living area (size),  the type of house, and the Neighboorhood:\n"
   ]
  },
  {
   "cell_type": "code",
   "execution_count": null,
   "id": "d1d6b33c",
   "metadata": {},
   "outputs": [],
   "source": [
    "ames_sub<-ames %>% select(Sale_Price, Gr_Liv_Area,  Bldg_Type,Neighborhood)"
   ]
  },
  {
   "cell_type": "code",
   "execution_count": null,
   "id": "80056e80",
   "metadata": {},
   "outputs": [],
   "source": [
    "class(ames_sub$Bldg_Type)"
   ]
  },
  {
   "cell_type": "markdown",
   "id": "c1ff4985",
   "metadata": {},
   "source": [
    "We can write the linear model as:\n",
    "\n",
    "\n",
    "$$\n",
    "log(Sale\\,Price)_{ij}= \\beta_0 + \\beta_1 Living\\,Area_i+\\beta_2 I(Two-family\\,Conversion=1) +\n",
    "\\beta_3 I(Duplex=1) +\\beta_4 I(Townhouse\\,End\\,Unit=1)+\\beta_5 I(Townhouse\\,Inside\\,Unit) + \\alpha_j + u_{ij} \n",
    "$$"
   ]
  },
  {
   "cell_type": "markdown",
   "id": "e7a6bc6f",
   "metadata": {},
   "source": [
    "and we can run the linear regression:"
   ]
  },
  {
   "cell_type": "code",
   "execution_count": null,
   "id": "fa2cbc84",
   "metadata": {},
   "outputs": [],
   "source": [
    "reg1<-lm(log(Sale_Price) ~ Gr_Liv_Area  + Bldg_Type + Neighborhood,data=ames_sub)\n",
    "stargazer(reg1,type=\"text\")"
   ]
  },
  {
   "cell_type": "markdown",
   "id": "e243021d",
   "metadata": {},
   "source": [
    "<iframe src=\"m.html\"></iframe>"
   ]
  },
  {
   "cell_type": "markdown",
   "id": "f29393e0",
   "metadata": {},
   "source": [
    "## Spatial Dependence"
   ]
  },
  {
   "cell_type": "markdown",
   "id": "22c8269f",
   "metadata": {},
   "source": [
    "We are going to turn  our data into an [sf](https://r-spatial.github.io/sf/) object to properly handle spatial distance calculations. \n",
    " \n",
    " A warning first: \n",
    "\n",
    "![](figs/mercator.gif)\n",
    " \n",
    " \n",
    " We can transform our Ames data into an sf object using the `sf::st_as_sf()` function:"
   ]
  },
  {
   "cell_type": "code",
   "execution_count": null,
   "id": "69588256",
   "metadata": {},
   "outputs": [],
   "source": [
    "#For speed I'm going to keep the ten neighbourhoods with most observations\n",
    "ames<-ames  %>% filter(Neighborhood %in%c(\"North_Ames\", \"College_Creek\", \"Old_Town\", \"Edwards\", \"Somerset\", \"Northridge_Heights\", \"Gilbert\", \"Sawyer\", \"Northwest_Ames\", \"Sawyer_West\"))\n",
    "\n",
    "ames_sf <- st_as_sf(\n",
    "  ames,\n",
    "  # \"coords\" is in x/y order -- so longitude goes first!\n",
    "  coords = c(\"Longitude\", \"Latitude\"),\n",
    "  # Set our coordinate reference system to EPSG:4326,\n",
    "  # the standard WGS84 geodetic coordinate reference system\n",
    "  crs = 4326\n",
    ")"
   ]
  },
  {
   "cell_type": "markdown",
   "id": "b4db6bbd",
   "metadata": {},
   "source": [
    "### Plot"
   ]
  },
  {
   "cell_type": "code",
   "execution_count": null,
   "id": "825a2d47",
   "metadata": {},
   "outputs": [],
   "source": [
    "#graficar con ggplot\n",
    "ggplot() +\n",
    "    geom_sf(data=ames_sf)+\n",
    "    theme_bw()"
   ]
  },
  {
   "cell_type": "markdown",
   "id": "51b99631",
   "metadata": {},
   "source": [
    "### Spatial Autocorrelation"
   ]
  },
  {
   "cell_type": "markdown",
   "id": "12857dcd",
   "metadata": {},
   "source": [
    "This relationship may exhibit spatial autocorrelation across the city of Ames, and we can use any of the several different methods provided by spatialsample to try and investigate it. \n"
   ]
  },
  {
   "cell_type": "markdown",
   "id": "f01a3c07",
   "metadata": {},
   "source": [
    "This relationship may exhibit spatial autocorrelation across the city of Ames, and we can use any of the several different methods provided by spatialsample to try and investigate it. \n"
   ]
  },
  {
   "cell_type": "markdown",
   "id": "a0bb855b",
   "metadata": {},
   "source": [
    "#### Spatial Buffers\n",
    "\n",
    "The `spatial_buffer_vfold_cv()` function will perform [spatially buffered cross-validation](https://onlinelibrary.wiley.com/doi/10.1111/geb.12161) with your data:"
   ]
  },
  {
   "cell_type": "code",
   "execution_count": null,
   "id": "5403d539",
   "metadata": {},
   "outputs": [],
   "source": [
    "north_ames<-ames_sf%>% filter(Neighborhood %in%c(\"North_Ames\"))\n",
    "north_ames"
   ]
  },
  {
   "cell_type": "code",
   "execution_count": null,
   "id": "351c4047",
   "metadata": {},
   "outputs": [],
   "source": [
    "Dist<-st_distance(north_ames)"
   ]
  },
  {
   "cell_type": "code",
   "execution_count": null,
   "id": "8dc205c8",
   "metadata": {},
   "outputs": [],
   "source": [
    "Dist"
   ]
  },
  {
   "cell_type": "code",
   "execution_count": null,
   "id": "5d14d2ea",
   "metadata": {},
   "outputs": [],
   "source": [
    "set.seed(123)\n",
    "buffer_folds <- spatial_buffer_vfold_cv(ames_sf%>% filter(Neighborhood %in%c(\"North_Ames\")), radius=NULL,buffer=300)"
   ]
  },
  {
   "cell_type": "code",
   "execution_count": null,
   "id": "660632a5",
   "metadata": {},
   "outputs": [],
   "source": [
    "p_load(\"purrr\")\n",
    "\n",
    "walk(buffer_folds$splits, function(x) print(autoplot(x) +theme_bw()))"
   ]
  },
  {
   "cell_type": "markdown",
   "id": "69dbcc33",
   "metadata": {},
   "source": [
    "#### Spatial Blocks\n",
    "\n",
    "For instance, the `spatial_block_cv()` function will perform [spatial blocking](https://doi.org/10.1111/ecog.02881) with your data:"
   ]
  },
  {
   "cell_type": "code",
   "execution_count": null,
   "id": "63e15f9b",
   "metadata": {},
   "outputs": [],
   "source": [
    "set.seed(123)\n",
    "block_folds <- spatial_block_cv(ames_sf, v = 5)\n",
    "\n",
    "\n",
    "walk(block_folds$splits, function(x) print(autoplot(x) +theme_bw()))"
   ]
  },
  {
   "cell_type": "markdown",
   "id": "92250e5b",
   "metadata": {},
   "source": [
    "#### Spatial LLOCV\n",
    "\n",
    "If you already have a sense of what locations in your data are likely to be closely related, you can also use the `spatial_leave_location_out_cv()` function to perform [leave-location-out cross-validation](https://doi.org/10.1016/j.envsoft.2017.12.001). \n",
    "\n",
    "For instance, we can split the Ames data into folds based on neighborhoods using this function:"
   ]
  },
  {
   "cell_type": "code",
   "execution_count": null,
   "id": "2a71c509",
   "metadata": {},
   "outputs": [],
   "source": [
    "set.seed(123)\n",
    "\n",
    "location_folds <- \n",
    "  spatial_leave_location_out_cv(\n",
    "    ames_sf,\n",
    "    group = Neighborhood\n",
    "  )"
   ]
  },
  {
   "cell_type": "code",
   "execution_count": null,
   "id": "a5a77f32",
   "metadata": {},
   "outputs": [],
   "source": [
    "\n",
    "walk(location_folds$splits, function(x) print(autoplot(x)))"
   ]
  },
  {
   "cell_type": "markdown",
   "id": "854e04b5",
   "metadata": {},
   "source": [
    "## Full implementation with Elastic Net\n",
    "\n",
    "\\begin{align}\n",
    "min_{\\beta} EN(\\beta) &= \\sum_{i=1}^n (y_i-\\beta_0 - \\sum_{j=1}^p x_{ij}\\beta_j)^2  + \\lambda\\left(\\alpha \\sum_{j=1}^p |\\beta_j| + \\frac{(1-\\alpha)}{2} \\sum_{j=1}^p (\\beta_j)^2\\right)\n",
    "\\end{align}"
   ]
  },
  {
   "cell_type": "code",
   "execution_count": null,
   "id": "daa087ea",
   "metadata": {},
   "outputs": [],
   "source": [
    "folds<-list()\n",
    "\n",
    "for(i in 1:10){\n",
    "  folds[[i]]<- location_folds$splits[[i]]$in_id\n",
    "}\n"
   ]
  },
  {
   "cell_type": "code",
   "execution_count": null,
   "id": "246fd8bc",
   "metadata": {},
   "outputs": [],
   "source": [
    "head(folds[[1]])"
   ]
  },
  {
   "cell_type": "code",
   "execution_count": null,
   "id": "ffcb6da8",
   "metadata": {},
   "outputs": [],
   "source": [
    "folds[[2]][!(folds[[2]]%in%folds[[1]])]"
   ]
  },
  {
   "cell_type": "code",
   "execution_count": null,
   "id": "b625190e",
   "metadata": {},
   "outputs": [],
   "source": [
    "p_load(\"caret\")\n",
    "p_load(\"glmnet\")\n",
    "\n",
    "fitControl<-trainControl(method =\"cv\",\n",
    "                         index=folds)\n",
    "\n"
   ]
  },
  {
   "cell_type": "code",
   "execution_count": null,
   "id": "b5a67b90",
   "metadata": {},
   "outputs": [],
   "source": [
    "EN<-train(log(Sale_Price) ~ Gr_Liv_Area  +  Bldg_Type ,\n",
    "             data=ames_sf,\n",
    "             method = 'glmnet', \n",
    "             trControl = fitControl,\n",
    "             tuneGrid = expand.grid(alpha =seq(0,1,length.out = 20),\n",
    "                                    lambda = seq(0.001,0.2,length.out = 50))\n",
    "              ) "
   ]
  },
  {
   "cell_type": "code",
   "execution_count": null,
   "id": "7c98be15",
   "metadata": {},
   "outputs": [],
   "source": [
    "EN"
   ]
  },
  {
   "cell_type": "code",
   "execution_count": null,
   "id": "75117854",
   "metadata": {},
   "outputs": [],
   "source": [
    "EN$bestTune"
   ]
  },
  {
   "cell_type": "code",
   "execution_count": null,
   "id": "f0d71f9e",
   "metadata": {},
   "outputs": [],
   "source": [
    "round(EN$results$RMSE[which.min(EN$results$lambda)],4)"
   ]
  },
  {
   "cell_type": "code",
   "execution_count": null,
   "id": "394aab8a",
   "metadata": {},
   "outputs": [],
   "source": [
    "fitControl2<-trainControl(method =\"cv\",\n",
    "                         number=5)\n",
    "\n",
    "EN2<-train(log(Sale_Price) ~ Gr_Liv_Area  +  Bldg_Type ,\n",
    "             data=ames_sf,\n",
    "             method = 'glmnet', \n",
    "             trControl = fitControl2,\n",
    "             tuneGrid = expand.grid(alpha =seq(0,1,length.out = 20),\n",
    "                                    lambda = seq(0.001,0.2,length.out = 50))\n",
    "              ) \n",
    "\n"
   ]
  },
  {
   "cell_type": "code",
   "execution_count": null,
   "id": "185cf045",
   "metadata": {},
   "outputs": [],
   "source": [
    "round(EN2$results$RMSE[which.min(EN2$results$lambda)],4)"
   ]
  },
  {
   "cell_type": "markdown",
   "id": "82669b43",
   "metadata": {},
   "source": [
    "## Example Problem Set"
   ]
  },
  {
   "cell_type": "code",
   "execution_count": null,
   "id": "db4700a8",
   "metadata": {},
   "outputs": [],
   "source": [
    "test<- ames_sf  %>% filter(Neighborhood==\"North_Ames\")\n",
    "\n",
    "train<-ames_sf  %>% filter(Neighborhood!=\"North_Ames\")"
   ]
  },
  {
   "cell_type": "code",
   "execution_count": null,
   "id": "87483f65",
   "metadata": {},
   "outputs": [],
   "source": [
    "set.seed(123)\n",
    "\n",
    "location_folds_train <- \n",
    "  spatial_leave_location_out_cv(\n",
    "    train,\n",
    "    group = Neighborhood\n",
    "  )\n",
    "\n"
   ]
  },
  {
   "cell_type": "code",
   "execution_count": null,
   "id": "8d6c902a",
   "metadata": {},
   "outputs": [],
   "source": [
    "walk(location_folds$splits, function(x) print(autoplot(x)))"
   ]
  },
  {
   "cell_type": "code",
   "execution_count": null,
   "id": "0c610875",
   "metadata": {},
   "outputs": [],
   "source": [
    "folds_train<-list()\n",
    "for(i in 1:length(location_folds_train$splits)){\n",
    "  folds_train[[i]]<- location_folds_train$splits[[i]]$in_id\n",
    "}\n"
   ]
  },
  {
   "cell_type": "code",
   "execution_count": null,
   "id": "181f7efc",
   "metadata": {},
   "outputs": [],
   "source": [
    "folds_train"
   ]
  },
  {
   "cell_type": "code",
   "execution_count": null,
   "id": "5184a4a5",
   "metadata": {},
   "outputs": [],
   "source": [
    "fitControl_tp<-trainControl(method =\"cv\",\n",
    "                         index=folds_train)\n"
   ]
  },
  {
   "cell_type": "code",
   "execution_count": null,
   "id": "5bd04e73",
   "metadata": {},
   "outputs": [],
   "source": [
    "EN_tp<-train(log(Sale_Price) ~ Gr_Liv_Area:Bldg_Type ,\n",
    "             data=train,\n",
    "             method = 'glmnet', \n",
    "             trControl = fitControl_tp,\n",
    "             metric=\"MAE\",\n",
    "             tuneGrid = expand.grid(alpha =seq(0,1,length.out = 20),\n",
    "                                    lambda = seq(0.001,0.2,length.out = 50))\n",
    "              ) "
   ]
  },
  {
   "cell_type": "code",
   "execution_count": null,
   "id": "0a4f3238",
   "metadata": {},
   "outputs": [],
   "source": [
    "EN_tp"
   ]
  },
  {
   "cell_type": "code",
   "execution_count": null,
   "id": "5e2abc4c",
   "metadata": {},
   "outputs": [],
   "source": [
    "EN_tp$bestTune"
   ]
  },
  {
   "cell_type": "code",
   "execution_count": null,
   "id": "51a42c8c",
   "metadata": {},
   "outputs": [],
   "source": [
    "test$log_price_hat<-predict(EN_tp,newdata = test)"
   ]
  },
  {
   "cell_type": "code",
   "execution_count": null,
   "id": "2ad61339",
   "metadata": {},
   "outputs": [],
   "source": [
    "head(test  %>% select(Sale_Price,log_price_hat)  %>% st_drop_geometry())"
   ]
  },
  {
   "cell_type": "code",
   "execution_count": null,
   "id": "1b308e40",
   "metadata": {},
   "outputs": [],
   "source": [
    "test<- test  %>% mutate(price_hat=exp(log_price_hat))\n",
    "head(test  %>% select(Sale_Price,log_price_hat,price_hat)  %>% st_drop_geometry())"
   ]
  },
  {
   "cell_type": "markdown",
   "id": "832132a0",
   "metadata": {},
   "source": [
    "#### What is Kaggle's score?"
   ]
  },
  {
   "cell_type": "code",
   "execution_count": null,
   "id": "e198b43e",
   "metadata": {},
   "outputs": [],
   "source": [
    "#MAE\n",
    "mean(abs(test$Sale_Price-test$price_hat))"
   ]
  },
  {
   "cell_type": "code",
   "execution_count": null,
   "id": "17215ba3",
   "metadata": {},
   "outputs": [],
   "source": [
    "#MAE\n",
    "mean(abs(test$Sale_Price-floor(test$price_hat)))"
   ]
  }
 ],
 "metadata": {
  "jupytext": {
   "formats": "ipynb,Rmd"
  },
  "kernelspec": {
   "display_name": "R",
   "language": "R",
   "name": "ir"
  },
  "language_info": {
   "codemirror_mode": "r",
   "file_extension": ".r",
   "mimetype": "text/x-r-source",
   "name": "R",
   "pygments_lexer": "r",
   "version": "4.3.2"
  },
  "toc": {
   "base_numbering": 1,
   "nav_menu": {},
   "number_sections": true,
   "sideBar": true,
   "skip_h1_title": false,
   "title_cell": "Table of Contents",
   "title_sidebar": "Contents",
   "toc_cell": false,
   "toc_position": {},
   "toc_section_display": true,
   "toc_window_display": false
  }
 },
 "nbformat": 4,
 "nbformat_minor": 5
}
